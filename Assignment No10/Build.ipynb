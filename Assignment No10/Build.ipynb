{
 "cells": [
  {
   "cell_type": "code",
   "execution_count": 3,
   "id": "c5d52b33",
   "metadata": {},
   "outputs": [
    {
     "name": "stdout",
     "output_type": "stream",
     "text": [
      "Top 5 similar items to item at index 0: [1, 2, 3, 4, 5]\n"
     ]
    }
   ],
   "source": [
    "import pandas as pd\n",
    "from sklearn.metrics.pairwise import cosine_similarity\n",
    "\n",
    "# Step 1: Load the dataset\n",
    "data = pd.read_csv('Build.csv', encoding='latin1')\n",
    "\n",
    "# Step 2: Preprocess the data (if needed)\n",
    "# For example, handle missing values or encode categorical variables\n",
    "\n",
    "# Step 3: Create a User-Item Matrix\n",
    "user_item_matrix = data.pivot_table(index='User.ID', columns='Book.Title', values='Book.Rating', fill_value=0)\n",
    "\n",
    "# Step 4: Compute the Cosine Similarity Matrix\n",
    "cosine_sim = cosine_similarity(user_item_matrix)\n",
    "\n",
    "# Step 5: Define a function to get top N similar users/books\n",
    "def get_top_n_similar_items(item_index, similarity_matrix, n=10):\n",
    "    # Get the similarity scores for the given item\n",
    "    item_similarity_scores = list(enumerate(similarity_matrix[item_index]))\n",
    "    # Sort the items based on their similarity scores\n",
    "    sorted_similar_items = sorted(item_similarity_scores, key=lambda x: x[1], reverse=True)\n",
    "    # Get the top N similar items\n",
    "    top_similar_items = sorted_similar_items[1:n+1]\n",
    "    # Extract the indices of the top N similar items\n",
    "    top_similar_item_indices = [item[0] for item in top_similar_items]\n",
    "    return top_similar_item_indices\n",
    "\n",
    "# Step 6: Test the function with an example\n",
    "test_item_index = 0  # Example: Choose the first item\n",
    "top_similar_items = get_top_n_similar_items(test_item_index, cosine_sim, n=5)\n",
    "print(f\"Top 5 similar items to item at index {test_item_index}: {top_similar_items}\")\n",
    "\n",
    "# You can now use the `cosine_sim` matrix and the `get_top_n_similar_items` function\n",
    "# to find similar users/books and make recommendations based on cosine similarity.\n"
   ]
  },
  {
   "cell_type": "code",
   "execution_count": null,
   "id": "047c4b88",
   "metadata": {},
   "outputs": [],
   "source": []
  },
  {
   "cell_type": "code",
   "execution_count": null,
   "id": "89d008fe",
   "metadata": {},
   "outputs": [],
   "source": []
  }
 ],
 "metadata": {
  "kernelspec": {
   "display_name": "Python 3 (ipykernel)",
   "language": "python",
   "name": "python3"
  },
  "language_info": {
   "codemirror_mode": {
    "name": "ipython",
    "version": 3
   },
   "file_extension": ".py",
   "mimetype": "text/x-python",
   "name": "python",
   "nbconvert_exporter": "python",
   "pygments_lexer": "ipython3",
   "version": "3.11.5"
  }
 },
 "nbformat": 4,
 "nbformat_minor": 5
}
