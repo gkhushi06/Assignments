{
 "cells": [
  {
   "cell_type": "code",
   "execution_count": 17,
   "id": "67622209",
   "metadata": {},
   "outputs": [],
   "source": [
    "# Importing necessary libraries\n",
    "import pandas as pd\n",
    "import numpy as np\n",
    "import matplotlib.pyplot as plt\n",
    "import seaborn as sns\n",
    "from sklearn.preprocessing import StandardScaler\n",
    "from sklearn.cluster import AgglomerativeClustering, KMeans, DBSCAN\n",
    "from sklearn.metrics import silhouette_score\n",
    "\n"
   ]
  },
  {
   "cell_type": "code",
   "execution_count": 18,
   "id": "623e751c",
   "metadata": {},
   "outputs": [],
   "source": [
    "airlines_df = pd.read_excel(\"EastWestAirlines.xlsx\")\n"
   ]
  },
  {
   "cell_type": "code",
   "execution_count": 19,
   "id": "82a3dc6f",
   "metadata": {},
   "outputs": [
    {
     "name": "stdout",
     "output_type": "stream",
     "text": [
      "  East-West Airlines is trying to learn more about its customers.  Key issues are their  \\\n",
      "0  flying patterns, earning and use of frequent f...                                      \n",
      "1  card.  The task is to identify customer segmen...                                      \n",
      "2                                                NaN                                      \n",
      "3                                                NaN                                      \n",
      "4  Source: Based upon real business data; company...                                      \n",
      "\n",
      "  Unnamed: 1 Unnamed: 2 Unnamed: 3 Unnamed: 4  \n",
      "0        NaN        NaN        NaN        NaN  \n",
      "1        NaN        NaN        NaN        NaN  \n",
      "2        NaN        NaN        NaN        NaN  \n",
      "3        NaN        NaN        NaN        NaN  \n",
      "4        NaN        NaN        NaN        NaN  \n"
     ]
    }
   ],
   "source": [
    "print(airlines_df.head())\n"
   ]
  },
  {
   "cell_type": "code",
   "execution_count": 20,
   "id": "a77eeccf",
   "metadata": {},
   "outputs": [
    {
     "name": "stdout",
     "output_type": "stream",
     "text": [
      "<class 'pandas.core.frame.DataFrame'>\n",
      "RangeIndex: 26 entries, 0 to 25\n",
      "Data columns (total 5 columns):\n",
      " #   Column                                                                                 Non-Null Count  Dtype \n",
      "---  ------                                                                                 --------------  ----- \n",
      " 0   East-West Airlines is trying to learn more about its customers.  Key issues are their  18 non-null     object\n",
      " 1   Unnamed: 1                                                                             13 non-null     object\n",
      " 2   Unnamed: 2                                                                             6 non-null      object\n",
      " 3   Unnamed: 3                                                                             13 non-null     object\n",
      " 4   Unnamed: 4                                                                             18 non-null     object\n",
      "dtypes: object(5)\n",
      "memory usage: 1.1+ KB\n",
      "None\n",
      "       East-West Airlines is trying to learn more about its customers.  Key issues are their  \\\n",
      "count                                                  18                                      \n",
      "unique                                                 18                                      \n",
      "top     flying patterns, earning and use of frequent f...                                      \n",
      "freq                                                    1                                      \n",
      "\n",
      "       Unnamed: 1  Unnamed: 2 Unnamed: 3   Unnamed: 4  \n",
      "count          13           6         13           18  \n",
      "unique          3           3          3           18  \n",
      "top        NUMBER           1        Raw  Description  \n",
      "freq            9           3          9            1  \n"
     ]
    }
   ],
   "source": [
    "print(airlines_df.info())\n",
    "print(airlines_df.describe())\n"
   ]
  },
  {
   "cell_type": "code",
   "execution_count": 21,
   "id": "f19b028e",
   "metadata": {},
   "outputs": [
    {
     "name": "stdout",
     "output_type": "stream",
     "text": [
      "East-West Airlines is trying to learn more about its customers.  Key issues are their     8\n",
      "Unnamed: 1                                                                               13\n",
      "Unnamed: 2                                                                               20\n",
      "Unnamed: 3                                                                               13\n",
      "Unnamed: 4                                                                                8\n",
      "dtype: int64\n"
     ]
    }
   ],
   "source": [
    "print(airlines_df.isnull().sum())\n"
   ]
  },
  {
   "cell_type": "code",
   "execution_count": 22,
   "id": "8897cd5b",
   "metadata": {},
   "outputs": [
    {
     "name": "stdout",
     "output_type": "stream",
     "text": [
      "   flying patterns, earning and use of frequent flyer rewards, and use of the airline credit  \\\n",
      "8                                                 ID#                                          \n",
      "9                                             Balance                                          \n",
      "10                                         Qual_miles                                          \n",
      "11                                          cc1_miles                                          \n",
      "12                                          cc2_miles                                          \n",
      "\n",
      "   Unnamed: 1 Unnamed: 2 Unnamed: 3  \\\n",
      "8      NUMBER        NaN     Telcom   \n",
      "9      NUMBER          8        Raw   \n",
      "10     NUMBER          8        Raw   \n",
      "11       CHAR          1        Raw   \n",
      "12       CHAR          1        Raw   \n",
      "\n",
      "                                           Unnamed: 4  \n",
      "8                                           Unique ID  \n",
      "9           Number of miles eligible for award travel  \n",
      "10  Number of miles counted as qualifying for Topf...  \n",
      "11  Number of miles earned with freq. flyer credit...  \n",
      "12  Number of miles earned with Rewards credit car...  \n"
     ]
    }
   ],
   "source": [
    "\n",
    "\n",
    "\n",
    "import pandas as pd\n",
    "# Read the data again, specifying the header row\n",
    "airlines_df = pd.read_excel(\"EastWestAirlines.xlsx\", header=1)\n",
    "# Assuming your DataFrame is named airlines_df\n",
    "# Display the first 5 rows of the DataFrame excluding the initial rows with additional information\n",
    "# Display the first few rows of the DataFrame starting from where the actual data begins\n",
    "print(airlines_df.iloc[8:].head())\n"
   ]
  },
  {
   "cell_type": "code",
   "execution_count": 23,
   "id": "bc5fc2df",
   "metadata": {},
   "outputs": [
    {
     "name": "stdout",
     "output_type": "stream",
     "text": [
      "<class 'pandas.core.frame.DataFrame'>\n",
      "RangeIndex: 25 entries, 0 to 24\n",
      "Data columns (total 5 columns):\n",
      " #   Column                                                                                     Non-Null Count  Dtype \n",
      "---  ------                                                                                     --------------  ----- \n",
      " 0   flying patterns, earning and use of frequent flyer rewards, and use of the airline credit  17 non-null     object\n",
      " 1   Unnamed: 1                                                                                 13 non-null     object\n",
      " 2   Unnamed: 2                                                                                 6 non-null      object\n",
      " 3   Unnamed: 3                                                                                 13 non-null     object\n",
      " 4   Unnamed: 4                                                                                 18 non-null     object\n",
      "dtypes: object(5)\n",
      "memory usage: 1.1+ KB\n",
      "None\n",
      "       flying patterns, earning and use of frequent flyer rewards, and use of the airline credit  \\\n",
      "count                                                  17                                          \n",
      "unique                                                 17                                          \n",
      "top     card.  The task is to identify customer segmen...                                          \n",
      "freq                                                    1                                          \n",
      "\n",
      "       Unnamed: 1  Unnamed: 2 Unnamed: 3   Unnamed: 4  \n",
      "count          13           6         13           18  \n",
      "unique          3           3          3           18  \n",
      "top        NUMBER           1        Raw  Description  \n",
      "freq            9           3          9            1  \n"
     ]
    }
   ],
   "source": [
    "print(airlines_df.info())\n",
    "print(airlines_df.describe())\n"
   ]
  },
  {
   "cell_type": "code",
   "execution_count": 24,
   "id": "74ba49e4",
   "metadata": {},
   "outputs": [
    {
     "name": "stdout",
     "output_type": "stream",
     "text": [
      "flying patterns, earning and use of frequent flyer rewards, and use of the airline credit     8\n",
      "Unnamed: 1                                                                                   12\n",
      "Unnamed: 2                                                                                   19\n",
      "Unnamed: 3                                                                                   12\n",
      "Unnamed: 4                                                                                    7\n",
      "dtype: int64\n"
     ]
    }
   ],
   "source": [
    "print(airlines_df.isnull().sum())\n"
   ]
  },
  {
   "cell_type": "code",
   "execution_count": 32,
   "id": "87815eef",
   "metadata": {},
   "outputs": [
    {
     "name": "stdout",
     "output_type": "stream",
     "text": [
      "              Field Name Data Type Max Data Length  \\\n",
      "0             Qual_miles    NUMBER               8   \n",
      "1              cc1_miles      CHAR               1   \n",
      "2              cc2_miles      CHAR               1   \n",
      "3              cc3_miles      CHAR               1   \n",
      "4     note:  miles bins:       NaN             NaN   \n",
      "\n",
      "  Raw Data or Telcom Created Field?  \\\n",
      "0                               Raw   \n",
      "1                               Raw   \n",
      "2                               Raw   \n",
      "3                               Raw   \n",
      "4                               NaN   \n",
      "\n",
      "                                         Description  \n",
      "0  Number of miles counted as qualifying for Topf...  \n",
      "1  Number of miles earned with freq. flyer credit...  \n",
      "2  Number of miles earned with Rewards credit car...  \n",
      "3  Number of miles earned with Small Business cre...  \n",
      "4                                    1 = under 5,000  \n",
      "Index(['Field Name', 'Data Type', 'Max Data Length',\n",
      "       'Raw Data or Telcom Created Field?', 'Description'],\n",
      "      dtype='object')\n"
     ]
    }
   ],
   "source": [
    "# Remove the last row since it contains extra information\n",
    "airlines_df = airlines_df[:-1]\n",
    "\n",
    "# Reset the index\n",
    "airlines_df.reset_index(drop=True, inplace=True)\n",
    "\n",
    "# Set proper column names\n",
    "airlines_df.columns = ['Field Name', 'Data Type', 'Max Data Length', 'Raw Data or Telcom Created Field?', 'Description']\n",
    "\n",
    "# Check the first few rows and column names\n",
    "print(airlines_df.head())\n",
    "print(airlines_df.columns)\n"
   ]
  },
  {
   "cell_type": "code",
   "execution_count": 35,
   "id": "8c7592cd",
   "metadata": {},
   "outputs": [
    {
     "name": "stderr",
     "output_type": "stream",
     "text": [
      "C:\\Users\\gkhya\\anaconda3\\Lib\\site-packages\\seaborn\\axisgrid.py:118: UserWarning: The figure layout has changed to tight\n",
      "  self._figure.tight_layout(*args, **kwargs)\n"
     ]
    },
    {
     "data": {
      "image/png": "[encoded data removed]",
      "text/plain": [
       "<Figure size 250x250 with 2 Axes>"
      ]
     },
     "metadata": {},
     "output_type": "display_data"
    }
   ],
   "source": [
    "import seaborn as sns\n",
    "import matplotlib.pyplot as plt\n",
    "\n",
    "# Define the numerical column names\n",
    "numerical_cols = ['Field Name', 'Data Type', 'Max Data Length', 'Raw Data or Telcom Created Field?', 'Description']\n",
    "\n",
    "# Create pairplot\n",
    "sns.pairplot(airlines_df[numerical_cols])\n",
    "plt.show()\n",
    "\n"
   ]
  },
  {
   "cell_type": "code",
   "execution_count": null,
   "id": "94ca135e",
   "metadata": {},
   "outputs": [],
   "source": []
  }
 ],
 "metadata": {
  "kernelspec": {
   "display_name": "Python 3 (ipykernel)",
   "language": "python",
   "name": "python3"
  },
  "language_info": {
   "codemirror_mode": {
    "name": "ipython",
    "version": 3
   },
   "file_extension": ".py",
   "mimetype": "text/x-python",
   "name": "python",
   "nbconvert_exporter": "python",
   "pygments_lexer": "ipython3",
   "version": "3.11.5"
  }
 },
 "nbformat": 4,
 "nbformat_minor": 5
}
